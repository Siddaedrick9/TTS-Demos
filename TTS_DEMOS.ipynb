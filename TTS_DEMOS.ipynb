{
  "nbformat": 4,
  "nbformat_minor": 0,
  "metadata": {
    "colab": {
      "provenance": []
    },
    "kernelspec": {
      "name": "python3",
      "display_name": "Python 3"
    },
    "language_info": {
      "name": "python"
    }
  },
  "cells": [
    {
      "cell_type": "code",
      "execution_count": 7,
      "metadata": {
        "id": "-unNDycTxJ1B",
        "colab": {
          "base_uri": "https://localhost:8080/"
        },
        "collapsed": true,
        "outputId": "9c9bba33-9ede-406d-f94e-86faba92b6b6"
      },
      "outputs": [
        {
          "output_type": "stream",
          "name": "stdout",
          "text": [
            "Requirement already satisfied: elevenlabs in /usr/local/lib/python3.11/dist-packages (2.7.1)\n",
            "Collecting murf\n",
            "  Downloading murf-2.0.0-py3-none-any.whl.metadata (6.8 kB)\n",
            "Requirement already satisfied: httpx>=0.21.2 in /usr/local/lib/python3.11/dist-packages (from elevenlabs) (0.28.1)\n",
            "Requirement already satisfied: pydantic>=1.9.2 in /usr/local/lib/python3.11/dist-packages (from elevenlabs) (2.11.7)\n",
            "Requirement already satisfied: pydantic-core<3.0.0,>=2.18.2 in /usr/local/lib/python3.11/dist-packages (from elevenlabs) (2.33.2)\n",
            "Requirement already satisfied: requests>=2.20 in /usr/local/lib/python3.11/dist-packages (from elevenlabs) (2.32.3)\n",
            "Requirement already satisfied: typing_extensions>=4.0.0 in /usr/local/lib/python3.11/dist-packages (from elevenlabs) (4.14.1)\n",
            "Requirement already satisfied: websockets>=11.0 in /usr/local/lib/python3.11/dist-packages (from elevenlabs) (15.0.1)\n",
            "Requirement already satisfied: anyio in /usr/local/lib/python3.11/dist-packages (from httpx>=0.21.2->elevenlabs) (4.9.0)\n",
            "Requirement already satisfied: certifi in /usr/local/lib/python3.11/dist-packages (from httpx>=0.21.2->elevenlabs) (2025.7.9)\n",
            "Requirement already satisfied: httpcore==1.* in /usr/local/lib/python3.11/dist-packages (from httpx>=0.21.2->elevenlabs) (1.0.9)\n",
            "Requirement already satisfied: idna in /usr/local/lib/python3.11/dist-packages (from httpx>=0.21.2->elevenlabs) (3.10)\n",
            "Requirement already satisfied: h11>=0.16 in /usr/local/lib/python3.11/dist-packages (from httpcore==1.*->httpx>=0.21.2->elevenlabs) (0.16.0)\n",
            "Requirement already satisfied: annotated-types>=0.6.0 in /usr/local/lib/python3.11/dist-packages (from pydantic>=1.9.2->elevenlabs) (0.7.0)\n",
            "Requirement already satisfied: typing-inspection>=0.4.0 in /usr/local/lib/python3.11/dist-packages (from pydantic>=1.9.2->elevenlabs) (0.4.1)\n",
            "Requirement already satisfied: charset-normalizer<4,>=2 in /usr/local/lib/python3.11/dist-packages (from requests>=2.20->elevenlabs) (3.4.2)\n",
            "Requirement already satisfied: urllib3<3,>=1.21.1 in /usr/local/lib/python3.11/dist-packages (from requests>=2.20->elevenlabs) (2.4.0)\n",
            "Requirement already satisfied: sniffio>=1.1 in /usr/local/lib/python3.11/dist-packages (from anyio->httpx>=0.21.2->elevenlabs) (1.3.1)\n",
            "Downloading murf-2.0.0-py3-none-any.whl (74 kB)\n",
            "\u001b[2K   \u001b[90m━━━━━━━━━━━━━━━━━━━━━━━━━━━━━━━━━━━━━━━━\u001b[0m \u001b[32m74.6/74.6 kB\u001b[0m \u001b[31m535.5 kB/s\u001b[0m eta \u001b[36m0:00:00\u001b[0m\n",
            "\u001b[?25hInstalling collected packages: murf\n",
            "Successfully installed murf-2.0.0\n"
          ]
        }
      ],
      "source": [
        "pip install elevenlabs murf\n"
      ]
    },
    {
      "cell_type": "code",
      "source": [
        "from elevenlabs import stream\n",
        "from elevenlabs import play\n",
        "from elevenlabs.client import ElevenLabs\n",
        "elevenlabs = ElevenLabs(\n",
        "  api_key='YOUR_ELEVENLABS_API_KEY_HERE',\n",
        ")\n",
        "audio_stream = elevenlabs.text_to_speech.stream(\n",
        "    text=\"This is a test for eleven labs api\",\n",
        "    voice_id=\"JBFqnCBsd6RMkjVDRZzb\",\n",
        "    model_id=\"eleven_multilingual_v2\",\n",
        "    output_format=\"mp3_44100_128\",\n",
        ")\n",
        "play(audio_stream)\n",
        "# option 1: play the streamed audio locally\n",
        "stream(audio_stream)\n",
        "# option 2: process the audio bytes manually\n",
        "for chunk in audio_stream:\n",
        "    if isinstance(chunk, bytes):\n",
        "        print(chunk)\n"
      ],
      "metadata": {
        "id": "4WvlpHh2xOaf"
      },
      "execution_count": 20,
      "outputs": []
    },
    {
      "cell_type": "code",
      "source": [
        "\n",
        "from murf import Murf\n",
        "\n",
        "client = Murf(api_key=\"Your Murf AI API HERE\")\n",
        "\n",
        "response = client.text_to_speech.generate(\n",
        "  text = \"In this experiential elearning module, you’ll master the basics of using this Text to Speech widget. Choose a voice, experiment with styles, explore languages, customize text, and play with various use-cases for a view into all that Murf offers.\",\n",
        "  voice_id = \"en-US-natalie\"\n",
        ")\n",
        "\n",
        "print(response.audio_file)"
      ],
      "metadata": {
        "id": "2jarBgXKbbpR"
      },
      "execution_count": null,
      "outputs": []
    },
    {
      "cell_type": "code",
      "source": [
        "from elevenlabs import Voice, VoiceSettings\n",
        "\n",
        "# Define your custom cloned voice\n",
        "cloned_voice = Voice(\n",
        "    name=\"MyClonedVoice\",\n",
        "    files=[\"your_voice_sample.mp3\"],  # Replace with your actual voice file\n",
        "    settings=VoiceSettings(stability=0.5, similarity_boost=0.9)\n",
        ")\n"
      ],
      "metadata": {
        "id": "69iXH40zxOcc"
      },
      "execution_count": null,
      "outputs": []
    },
    {
      "cell_type": "code",
      "source": [
        "# Generate speech with cloned voice\n",
        "audio = generate(\n",
        "    text=\"Hola, ¿cómo estás?\",  # Example in Spanish\n",
        "    voice=cloned_voice,\n",
        "    model=\"eleven_multilingual_v2\"\n",
        ")\n",
        "\n",
        "# Play the cloned voice output\n",
        "play(audio)\n"
      ],
      "metadata": {
        "id": "YrGNUNX3xOef",
        "colab": {
          "base_uri": "https://localhost:8080/",
          "height": 211
        },
        "collapsed": true,
        "outputId": "f2e0a10a-063f-4c4b-da16-f83e4a9ccb97"
      },
      "execution_count": 9,
      "outputs": [
        {
          "output_type": "error",
          "ename": "NameError",
          "evalue": "name 'generate' is not defined",
          "traceback": [
            "\u001b[0;31m---------------------------------------------------------------------------\u001b[0m",
            "\u001b[0;31mNameError\u001b[0m                                 Traceback (most recent call last)",
            "\u001b[0;32m/tmp/ipython-input-9-285383830.py\u001b[0m in \u001b[0;36m<cell line: 0>\u001b[0;34m()\u001b[0m\n\u001b[1;32m      1\u001b[0m \u001b[0;31m# Generate speech with cloned voice\u001b[0m\u001b[0;34m\u001b[0m\u001b[0;34m\u001b[0m\u001b[0m\n\u001b[0;32m----> 2\u001b[0;31m audio = generate(\n\u001b[0m\u001b[1;32m      3\u001b[0m     \u001b[0mtext\u001b[0m\u001b[0;34m=\u001b[0m\u001b[0;34m\"Hola, ¿cómo estás?\"\u001b[0m\u001b[0;34m,\u001b[0m  \u001b[0;31m# Example in Spanish\u001b[0m\u001b[0;34m\u001b[0m\u001b[0;34m\u001b[0m\u001b[0m\n\u001b[1;32m      4\u001b[0m     \u001b[0mvoice\u001b[0m\u001b[0;34m=\u001b[0m\u001b[0mcloned_voice\u001b[0m\u001b[0;34m,\u001b[0m\u001b[0;34m\u001b[0m\u001b[0;34m\u001b[0m\u001b[0m\n\u001b[1;32m      5\u001b[0m     \u001b[0mmodel\u001b[0m\u001b[0;34m=\u001b[0m\u001b[0;34m\"eleven_multilingual_v2\"\u001b[0m\u001b[0;34m\u001b[0m\u001b[0;34m\u001b[0m\u001b[0m\n",
            "\u001b[0;31mNameError\u001b[0m: name 'generate' is not defined"
          ]
        }
      ]
    },
    {
      "cell_type": "code",
      "source": [],
      "metadata": {
        "id": "Gb-So9OFxgHt"
      },
      "execution_count": null,
      "outputs": []
    },
    {
      "cell_type": "code",
      "source": [],
      "metadata": {
        "id": "M5TY0yPhxgKl"
      },
      "execution_count": null,
      "outputs": []
    },
    {
      "cell_type": "code",
      "source": [],
      "metadata": {
        "id": "lA5odvQPxgM1"
      },
      "execution_count": null,
      "outputs": []
    }
  ]
}